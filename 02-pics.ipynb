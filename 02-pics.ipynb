{
 "cells": [
  {
   "cell_type": "markdown",
   "metadata": {},
   "source": [
    "In this notebook, we will show how to run Apps in SigPy.\n",
    "\n",
    "For a complete list of MRI Apps, please see: https://sigpy.readthedocs.io/en/latest/mri_app.html"
   ]
  },
  {
   "cell_type": "markdown",
   "metadata": {},
   "source": [
    "# Setup\n",
    "\n",
    "In addition to Numpy and SigPy, we will need to import the mri submodule `sigpy.mri` for MRI apps."
   ]
  },
  {
   "cell_type": "code",
   "execution_count": null,
   "metadata": {},
   "outputs": [],
   "source": [
    "%matplotlib notebook\n",
    "import numpy as np\n",
    "import sigpy as sp\n",
    "import sigpy.mri as mr\n",
    "import sigpy.plot as pl"
   ]
  },
  {
   "cell_type": "markdown",
   "metadata": {},
   "source": [
    "We will be using a 8x undersampled 8-channel brain dataset:"
   ]
  },
  {
   "cell_type": "code",
   "execution_count": null,
   "metadata": {},
   "outputs": [],
   "source": [
    "ksp = np.load('data/brain_ksp.npy')\n",
    "ksp /= np.abs(sp.ifft(ksp, axes=[-1, -2])).max()\n",
    "\n",
    "pl.ImagePlot(ksp)"
   ]
  },
  {
   "cell_type": "markdown",
   "metadata": {},
   "source": [
    "A root-sum-of-squares reconstruction looks like this:"
   ]
  },
  {
   "cell_type": "code",
   "execution_count": null,
   "metadata": {},
   "outputs": [],
   "source": [
    "img_rss = np.sum(np.abs(sp.ifft(ksp, axes=(-1, -2)))**2, axis=0)**0.5\n",
    "\n",
    "pl.ImagePlot(img_rss)"
   ]
  },
  {
   "cell_type": "markdown",
   "metadata": {},
   "source": [
    "## Estimating sensitivity maps using ESPIRiT"
   ]
  },
  {
   "cell_type": "markdown",
   "metadata": {},
   "source": [
    "We will use ESPIRiT to compute the sensitivity maps. This is provided in SigPy as `mr.espirit_maps`. This function supports GPU with the option `device`."
   ]
  },
  {
   "cell_type": "code",
   "execution_count": null,
   "metadata": {},
   "outputs": [],
   "source": [
    "mps = mr.espirit_maps(ksp, calib_width=24, kernel_width=8)\n",
    "\n",
    "pl.ImagePlot(mps)"
   ]
  },
  {
   "cell_type": "markdown",
   "metadata": {},
   "source": [
    "## SENSE Recon\n",
    "\n",
    "We will first run the SENSE App. To run an App, simply do, `app.run()`.\n",
    "\n",
    "All MRI reconstruction Apps support the device option, so they can be run on GPU as well."
   ]
  },
  {
   "cell_type": "code",
   "execution_count": null,
   "metadata": {},
   "outputs": [],
   "source": [
    "img_sense = mr.app.SenseRecon(ksp, mps, lamda=0.01).run()\n",
    "\n",
    "pl.ImagePlot(img_sense)"
   ]
  },
  {
   "cell_type": "markdown",
   "metadata": {},
   "source": [
    "## L1 Wavelet Recon\n",
    "\n",
    "The L1-wavelet App does the l1-wavelet reconstruction."
   ]
  },
  {
   "cell_type": "code",
   "execution_count": null,
   "metadata": {},
   "outputs": [],
   "source": [
    "lamda = 0.005\n",
    "img_l1wav = mr.app.L1WaveletRecon(ksp, mps, lamda, device=0).run()\n",
    "\n",
    "pl.ImagePlot(img_l1wav)"
   ]
  },
  {
   "cell_type": "markdown",
   "metadata": {},
   "source": [
    "# Total Variation Recon\n",
    "\n",
    "And we can do total variation regularized reconstruction."
   ]
  },
  {
   "cell_type": "code",
   "execution_count": null,
   "metadata": {},
   "outputs": [],
   "source": [
    "lamda = 0.005\n",
    "img_tv = mr.app.TotalVariationRecon(ksp, mps, lamda).run()\n",
    "\n",
    "pl.ImagePlot(img_tv)"
   ]
  }
 ],
 "metadata": {
  "kernelspec": {
   "display_name": "Python 3",
   "language": "python",
   "name": "python3"
  },
  "language_info": {
   "codemirror_mode": {
    "name": "ipython",
    "version": 3
   },
   "file_extension": ".py",
   "mimetype": "text/x-python",
   "name": "python",
   "nbconvert_exporter": "python",
   "pygments_lexer": "ipython3",
   "version": "3.6.8"
  }
 },
 "nbformat": 4,
 "nbformat_minor": 2
}
