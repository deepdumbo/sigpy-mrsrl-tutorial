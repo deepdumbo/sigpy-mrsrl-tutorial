{
 "cells": [
  {
   "cell_type": "markdown",
   "metadata": {},
   "source": [
    "In this notebook, we will demonstrate basic features of SigPy using the NUFFT function.\n",
    "\n",
    "For documentation, please checkout:\n",
    "https://sigpy.readthedocs.io/en/latest/core.html"
   ]
  },
  {
   "cell_type": "markdown",
   "metadata": {},
   "source": [
    "# Setup"
   ]
  },
  {
   "cell_type": "markdown",
   "metadata": {},
   "source": [
    "Let us first import relevant packages. SigPy operates on NumPy arrays directly, so we will need to import that. `sigpy.plot` provides convenient plotting functions for multi-dimensional arrays. We will be using them to show images, but they are not the focus of this tutorial."
   ]
  },
  {
   "cell_type": "code",
   "execution_count": null,
   "metadata": {},
   "outputs": [],
   "source": [
    "%matplotlib notebook\n",
    "import numpy as np\n",
    "import sigpy as sp\n",
    "import sigpy.plot as pl"
   ]
  },
  {
   "cell_type": "markdown",
   "metadata": {},
   "source": [
    "In this tutorial, we will use the following radial dataset:"
   ]
  },
  {
   "cell_type": "code",
   "execution_count": null,
   "metadata": {},
   "outputs": [],
   "source": [
    "ksp = np.load('data/ksp.npy')\n",
    "coord = np.load('data/coord.npy')\n",
    "dcf = np.load('data/dcf.npy')\n",
    "\n",
    "pl.ScatterPlot(coord)"
   ]
  },
  {
   "cell_type": "markdown",
   "metadata": {},
   "source": [
    "# NUFFT"
   ]
  },
  {
   "cell_type": "markdown",
   "metadata": {},
   "source": [
    "The imported arrays are in NumPy format, and SigPy can operate on them directly. To perform an NUFFT reconstruction, we can simply call the `sp.nufft_adjoint` function."
   ]
  },
  {
   "cell_type": "code",
   "execution_count": null,
   "metadata": {},
   "outputs": [],
   "source": [
    "img_adj = sp.nufft_adjoint(ksp * dcf, coord)\n",
    "pl.ImagePlot(img_adj)"
   ]
  },
  {
   "cell_type": "markdown",
   "metadata": {},
   "source": [
    "The `nufft_adjoint` function allows the user to tune oversampling ratios and kernel widths."
   ]
  },
  {
   "cell_type": "code",
   "execution_count": null,
   "metadata": {},
   "outputs": [],
   "source": [
    "img_adj = sp.nufft_adjoint(ksp * dcf, coord, oversamp=1, width=2)\n",
    "pl.ImagePlot(img_adj)"
   ]
  },
  {
   "cell_type": "markdown",
   "metadata": {},
   "source": [
    "# GPU NUFFT\n",
    "\n",
    "To run the NUFFT on GPU, all we have to do is to move the arrays to a GPU device, and wrap the function with a GPU device context. This is similar to how Tensorflow or Pytorch specify their computing device.\n",
    "\n",
    "In order to run the following code, you will need to have a GPU, and install the package `cupy`."
   ]
  },
  {
   "cell_type": "code",
   "execution_count": null,
   "metadata": {},
   "outputs": [],
   "source": [
    "ksp_gpu = sp.to_device(ksp, device=0)\n",
    "coord_gpu = sp.to_device(coord, device=0)\n",
    "dcf_gpu = sp.to_device(dcf, device=0)"
   ]
  },
  {
   "cell_type": "code",
   "execution_count": null,
   "metadata": {},
   "outputs": [],
   "source": [
    "with sp.Device(0):\n",
    "    img_adj_gpu = sp.nufft_adjoint(ksp_gpu * dcf_gpu, coord_gpu)\n",
    "\n",
    "pl.ImagePlot(img_adj_gpu)"
   ]
  },
  {
   "cell_type": "code",
   "execution_count": null,
   "metadata": {},
   "outputs": [],
   "source": [
    "img_adj_gpu.device"
   ]
  }
 ],
 "metadata": {
  "kernelspec": {
   "display_name": "Python 3",
   "language": "python",
   "name": "python3"
  },
  "language_info": {
   "codemirror_mode": {
    "name": "ipython",
    "version": 3
   },
   "file_extension": ".py",
   "mimetype": "text/x-python",
   "name": "python",
   "nbconvert_exporter": "python",
   "pygments_lexer": "ipython3",
   "version": "3.6.8"
  }
 },
 "nbformat": 4,
 "nbformat_minor": 2
}
